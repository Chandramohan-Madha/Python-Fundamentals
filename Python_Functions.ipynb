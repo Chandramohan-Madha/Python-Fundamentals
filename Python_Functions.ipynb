{
 "cells": [
  {
   "cell_type": "code",
   "execution_count": null,
   "id": "0ffd1a8c",
   "metadata": {},
   "outputs": [],
   "source": [
    "Introduction to python function :"
   ]
  },
  {
   "cell_type": "code",
   "execution_count": null,
   "id": "8e8c802c",
   "metadata": {},
   "outputs": [],
   "source": []
  },
  {
   "cell_type": "code",
   "execution_count": null,
   "id": "e8b36221",
   "metadata": {},
   "outputs": [],
   "source": [
    "rules for defining a function :\n",
    "    \n",
    "    use small case letters for defining the function\n",
    "    "
   ]
  },
  {
   "cell_type": "code",
   "execution_count": null,
   "id": "a068f682",
   "metadata": {},
   "outputs": [],
   "source": [
    "#create a function called describe_pet, where it accepts animal_type and pet_name"
   ]
  },
  {
   "cell_type": "code",
   "execution_count": 1,
   "id": "331eeca0",
   "metadata": {},
   "outputs": [],
   "source": [
    "def describe_pet(animal_type,pet_name): #parameters\n",
    "    print(f'my pet name is {pet_name} and it is a {animal_type}')"
   ]
  },
  {
   "cell_type": "code",
   "execution_count": 2,
   "id": "e95bfef8",
   "metadata": {},
   "outputs": [
    {
     "name": "stdout",
     "output_type": "stream",
     "text": [
      "my pet name is shimba and it is a rabbit\n"
     ]
    }
   ],
   "source": [
    "describe_pet('rabbit', 'shimba') #arguments passing"
   ]
  },
  {
   "cell_type": "code",
   "execution_count": 4,
   "id": "302ffd4d",
   "metadata": {},
   "outputs": [
    {
     "name": "stdout",
     "output_type": "stream",
     "text": [
      "my pet name is tommy and it is a dog\n"
     ]
    }
   ],
   "source": [
    "describe_pet('dog','tommy')"
   ]
  },
  {
   "cell_type": "code",
   "execution_count": null,
   "id": "8419ec3c",
   "metadata": {},
   "outputs": [],
   "source": [
    "Types of arguments:\n",
    "    \n",
    "    1.Positional arguments\n",
    "    \n",
    "    2. keyword arguments\n",
    "    \n",
    "    3. default arguments"
   ]
  },
  {
   "cell_type": "code",
   "execution_count": 7,
   "id": "3cb19c74",
   "metadata": {},
   "outputs": [
    {
     "name": "stdout",
     "output_type": "stream",
     "text": [
      "my pet name is cat and it is a chinni\n"
     ]
    }
   ],
   "source": [
    "describe_pet('chinni','cat') # here the positions are important otherwise the meaning of the function changes "
   ]
  },
  {
   "cell_type": "code",
   "execution_count": 8,
   "id": "b8527e03",
   "metadata": {},
   "outputs": [
    {
     "name": "stdout",
     "output_type": "stream",
     "text": [
      "my pet name is chinni and it is a cat\n"
     ]
    }
   ],
   "source": [
    "describe_pet(animal_type='cat', pet_name= 'chinni') # key word arguments"
   ]
  },
  {
   "cell_type": "code",
   "execution_count": 9,
   "id": "bda7afda",
   "metadata": {},
   "outputs": [],
   "source": [
    "def pet(pet_name,animal_type='cat'): #parameters or params\n",
    "    print(f'my pet name is {pet_name}')\n",
    "    print(f'my pet is a {animal_type}')"
   ]
  },
  {
   "cell_type": "code",
   "execution_count": 10,
   "id": "c67b962c",
   "metadata": {},
   "outputs": [
    {
     "name": "stdout",
     "output_type": "stream",
     "text": [
      "my pet name is tommy\n",
      "my pet is a cat\n"
     ]
    }
   ],
   "source": [
    "pet('tommy')"
   ]
  },
  {
   "cell_type": "code",
   "execution_count": 11,
   "id": "723cc387",
   "metadata": {},
   "outputs": [
    {
     "name": "stdout",
     "output_type": "stream",
     "text": [
      "my pet name is tommy\n",
      "my pet is a dog\n"
     ]
    }
   ],
   "source": [
    "pet('tommy', 'dog')"
   ]
  },
  {
   "cell_type": "code",
   "execution_count": null,
   "id": "b8b63813",
   "metadata": {},
   "outputs": [],
   "source": []
  }
 ],
 "metadata": {
  "kernelspec": {
   "display_name": "Python 3 (ipykernel)",
   "language": "python",
   "name": "python3"
  },
  "language_info": {
   "codemirror_mode": {
    "name": "ipython",
    "version": 3
   },
   "file_extension": ".py",
   "mimetype": "text/x-python",
   "name": "python",
   "nbconvert_exporter": "python",
   "pygments_lexer": "ipython3",
   "version": "3.9.7"
  }
 },
 "nbformat": 4,
 "nbformat_minor": 5
}
