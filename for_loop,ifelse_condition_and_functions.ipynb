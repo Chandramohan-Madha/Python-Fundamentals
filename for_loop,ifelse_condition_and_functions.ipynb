{
 "cells": [
  {
   "cell_type": "code",
   "execution_count": null,
   "id": "394185c8",
   "metadata": {},
   "outputs": [],
   "source": [
    "for loop in a dictionary"
   ]
  },
  {
   "cell_type": "code",
   "execution_count": null,
   "id": "09b8ecc2",
   "metadata": {},
   "outputs": [],
   "source": []
  },
  {
   "cell_type": "code",
   "execution_count": 1,
   "id": "65892220",
   "metadata": {},
   "outputs": [],
   "source": [
    "alien = {'color' : 'red', 'points': 6, 'level': 1}"
   ]
  },
  {
   "cell_type": "code",
   "execution_count": 3,
   "id": "cd9eba1b",
   "metadata": {},
   "outputs": [
    {
     "name": "stdout",
     "output_type": "stream",
     "text": [
      "color\n",
      "points\n",
      "level\n"
     ]
    }
   ],
   "source": [
    "for x,y in alien.items() :\n",
    "    print(x)"
   ]
  },
  {
   "cell_type": "code",
   "execution_count": 4,
   "id": "2524affa",
   "metadata": {},
   "outputs": [
    {
     "name": "stdout",
     "output_type": "stream",
     "text": [
      "red\n",
      "6\n",
      "1\n"
     ]
    }
   ],
   "source": [
    "for x,y in alien.items() :\n",
    "    print(y)"
   ]
  },
  {
   "cell_type": "code",
   "execution_count": 5,
   "id": "f04a2e17",
   "metadata": {},
   "outputs": [
    {
     "name": "stdout",
     "output_type": "stream",
     "text": [
      "color\n",
      "red\n",
      "points\n",
      "6\n",
      "level\n",
      "1\n"
     ]
    }
   ],
   "source": [
    "for x,y in alien.items() :\n",
    "    print(x)\n",
    "    print(y)"
   ]
  },
  {
   "cell_type": "code",
   "execution_count": 6,
   "id": "48a75a0f",
   "metadata": {},
   "outputs": [
    {
     "name": "stdout",
     "output_type": "stream",
     "text": [
      "key: color\n",
      "key: red\n",
      "key: points\n",
      "key: 6\n",
      "key: level\n",
      "key: 1\n"
     ]
    }
   ],
   "source": [
    "for x,y in alien.items() :\n",
    "    print(f\"key: {x}\")\n",
    "    print(f\"key: {y}\")"
   ]
  },
  {
   "cell_type": "code",
   "execution_count": 7,
   "id": "72c55fd3",
   "metadata": {},
   "outputs": [
    {
     "name": "stdout",
     "output_type": "stream",
     "text": [
      "key: color\n",
      "key: red\n",
      "\n",
      "key: points\n",
      "key: 6\n",
      "\n",
      "key: level\n",
      "key: 1\n",
      "\n"
     ]
    }
   ],
   "source": [
    "for x,y in alien.items() :\n",
    "    print(f\"key: {x}\")\n",
    "    print(f\"key: {y}\\n\")"
   ]
  },
  {
   "cell_type": "code",
   "execution_count": null,
   "id": "25445200",
   "metadata": {},
   "outputs": [],
   "source": []
  },
  {
   "cell_type": "code",
   "execution_count": null,
   "id": "35414396",
   "metadata": {},
   "outputs": [],
   "source": [
    "Introduction to conditional statements :"
   ]
  },
  {
   "cell_type": "code",
   "execution_count": null,
   "id": "765f9311",
   "metadata": {},
   "outputs": [],
   "source": [
    "#if else ------> conditions"
   ]
  },
  {
   "cell_type": "code",
   "execution_count": null,
   "id": "599706de",
   "metadata": {},
   "outputs": [],
   "source": [
    "#to build a voting application"
   ]
  },
  {
   "cell_type": "code",
   "execution_count": 9,
   "id": "d55b5a5a",
   "metadata": {},
   "outputs": [
    {
     "name": "stdout",
     "output_type": "stream",
     "text": [
      "enter your age 22\n"
     ]
    }
   ],
   "source": [
    "age = input('enter your age ')\n",
    "age = int(age)\n"
   ]
  },
  {
   "cell_type": "code",
   "execution_count": 10,
   "id": "a9f023ba",
   "metadata": {},
   "outputs": [
    {
     "name": "stdout",
     "output_type": "stream",
     "text": [
      "22\n"
     ]
    }
   ],
   "source": [
    "print(age)"
   ]
  },
  {
   "cell_type": "code",
   "execution_count": 17,
   "id": "9e3452eb",
   "metadata": {},
   "outputs": [
    {
     "name": "stdout",
     "output_type": "stream",
     "text": [
      "enter your age 18\n",
      "you are eligible to vote\n"
     ]
    }
   ],
   "source": [
    "age = input('enter your age ')\n",
    "age = int(age)\n",
    "\n",
    "if age >= 18:\n",
    "    print('you are eligible to vote')\n",
    "else:\n",
    "    print('try next year')"
   ]
  },
  {
   "cell_type": "code",
   "execution_count": null,
   "id": "b8c79a56",
   "metadata": {},
   "outputs": [],
   "source": []
  },
  {
   "cell_type": "code",
   "execution_count": null,
   "id": "420c202e",
   "metadata": {},
   "outputs": [],
   "source": [
    "Introduction to functions :\n",
    "    "
   ]
  },
  {
   "cell_type": "code",
   "execution_count": 13,
   "id": "7cac704b",
   "metadata": {},
   "outputs": [],
   "source": [
    "#defining or declaring the function \n",
    "\n",
    "def greet():\n",
    "    print('hello!')"
   ]
  },
  {
   "cell_type": "code",
   "execution_count": 14,
   "id": "bb22a70a",
   "metadata": {},
   "outputs": [
    {
     "name": "stdout",
     "output_type": "stream",
     "text": [
      "hello!\n"
     ]
    }
   ],
   "source": [
    "greet()  #calling the function"
   ]
  },
  {
   "cell_type": "code",
   "execution_count": null,
   "id": "d80907bb",
   "metadata": {},
   "outputs": [],
   "source": [
    "understanding the parameters and arguments:"
   ]
  },
  {
   "cell_type": "code",
   "execution_count": null,
   "id": "1d157007",
   "metadata": {},
   "outputs": [],
   "source": []
  },
  {
   "cell_type": "code",
   "execution_count": null,
   "id": "65e349e9",
   "metadata": {},
   "outputs": [],
   "source": [
    "#req : create a function called pet details\n",
    "\n",
    "#define the parameters as pet_name and animal_type"
   ]
  },
  {
   "cell_type": "code",
   "execution_count": 18,
   "id": "fa8689c5",
   "metadata": {},
   "outputs": [],
   "source": [
    "def pet_details(pet_name,animal_type): #parameters or params\n",
    "    print(f'my pet name is {pet_name}')\n",
    "    print(f'my pet is a {animal_type}')"
   ]
  },
  {
   "cell_type": "code",
   "execution_count": 19,
   "id": "66efe59c",
   "metadata": {},
   "outputs": [
    {
     "ename": "TypeError",
     "evalue": "pet_details() missing 2 required positional arguments: 'pet_name' and 'animal_type'",
     "output_type": "error",
     "traceback": [
      "\u001b[1;31m---------------------------------------------------------------------------\u001b[0m",
      "\u001b[1;31mTypeError\u001b[0m                                 Traceback (most recent call last)",
      "\u001b[1;32m~\\AppData\\Local\\Temp/ipykernel_14168/3834682921.py\u001b[0m in \u001b[0;36m<module>\u001b[1;34m\u001b[0m\n\u001b[1;32m----> 1\u001b[1;33m \u001b[0mpet_details\u001b[0m\u001b[1;33m(\u001b[0m\u001b[1;33m)\u001b[0m\u001b[1;33m\u001b[0m\u001b[1;33m\u001b[0m\u001b[0m\n\u001b[0m",
      "\u001b[1;31mTypeError\u001b[0m: pet_details() missing 2 required positional arguments: 'pet_name' and 'animal_type'"
     ]
    }
   ],
   "source": [
    "pet_details()"
   ]
  },
  {
   "cell_type": "code",
   "execution_count": 20,
   "id": "9aaa9c06",
   "metadata": {},
   "outputs": [
    {
     "name": "stdout",
     "output_type": "stream",
     "text": [
      "my pet name is tommy\n",
      "my pet is a dog\n"
     ]
    }
   ],
   "source": [
    "pet_details('tommy', 'dog') #arguments"
   ]
  },
  {
   "cell_type": "code",
   "execution_count": null,
   "id": "ccbf54c3",
   "metadata": {},
   "outputs": [],
   "source": []
  },
  {
   "cell_type": "code",
   "execution_count": null,
   "id": "5d4a3f32",
   "metadata": {},
   "outputs": [],
   "source": [
    "Types of arguments:\n",
    "    \n",
    "    1.Positional arguments\n",
    "    \n",
    "    2. keyword arguments\n",
    "    \n",
    "    3. default arguments"
   ]
  },
  {
   "cell_type": "code",
   "execution_count": 21,
   "id": "a5b4cff2",
   "metadata": {},
   "outputs": [
    {
     "name": "stdout",
     "output_type": "stream",
     "text": [
      "my pet name is cat\n",
      "my pet is a chinni\n"
     ]
    }
   ],
   "source": [
    "pet_details('cat', 'chinni') # here the positions are important otherwise the meaning of the function changes "
   ]
  },
  {
   "cell_type": "code",
   "execution_count": 22,
   "id": "dedcacc0",
   "metadata": {},
   "outputs": [
    {
     "name": "stdout",
     "output_type": "stream",
     "text": [
      "my pet name is chinni\n",
      "my pet is a cat\n"
     ]
    }
   ],
   "source": [
    "pet_details(animal_type='cat', pet_name= 'chinni') # key word arguments"
   ]
  },
  {
   "cell_type": "code",
   "execution_count": null,
   "id": "fa4c5156",
   "metadata": {},
   "outputs": [],
   "source": []
  },
  {
   "cell_type": "code",
   "execution_count": null,
   "id": "28325307",
   "metadata": {},
   "outputs": [],
   "source": []
  }
 ],
 "metadata": {
  "kernelspec": {
   "display_name": "Python 3 (ipykernel)",
   "language": "python",
   "name": "python3"
  },
  "language_info": {
   "codemirror_mode": {
    "name": "ipython",
    "version": 3
   },
   "file_extension": ".py",
   "mimetype": "text/x-python",
   "name": "python",
   "nbconvert_exporter": "python",
   "pygments_lexer": "ipython3",
   "version": "3.9.7"
  }
 },
 "nbformat": 4,
 "nbformat_minor": 5
}
