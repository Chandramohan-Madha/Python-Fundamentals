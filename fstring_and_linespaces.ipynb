{
 "cells": [
  {
   "cell_type": "code",
   "execution_count": null,
   "id": "a6ede90e",
   "metadata": {},
   "outputs": [],
   "source": [
    "continuation to string datatype"
   ]
  },
  {
   "cell_type": "code",
   "execution_count": null,
   "id": "10105ded",
   "metadata": {},
   "outputs": [],
   "source": []
  },
  {
   "cell_type": "code",
   "execution_count": 3,
   "id": "c22a159b",
   "metadata": {},
   "outputs": [],
   "source": [
    "first_name = 'Chandra'\n",
    "last_name  = 'mohan'"
   ]
  },
  {
   "cell_type": "code",
   "execution_count": null,
   "id": "7f8e09d7",
   "metadata": {},
   "outputs": [],
   "source": [
    "#req I want to get full name"
   ]
  },
  {
   "cell_type": "code",
   "execution_count": null,
   "id": "c8c266c9",
   "metadata": {},
   "outputs": [],
   "source": [
    "understanding the syntax of f strings **"
   ]
  },
  {
   "cell_type": "code",
   "execution_count": null,
   "id": "47901d1a",
   "metadata": {},
   "outputs": [],
   "source": [
    "#general syntax of f string"
   ]
  },
  {
   "cell_type": "code",
   "execution_count": null,
   "id": "8a31988b",
   "metadata": {},
   "outputs": [],
   "source": [
    "f\" custom words {place_holder1} {place_holder2} {place_holder3} .... {place_holdern} \""
   ]
  },
  {
   "cell_type": "code",
   "execution_count": 4,
   "id": "d550ba18",
   "metadata": {},
   "outputs": [
    {
     "name": "stdout",
     "output_type": "stream",
     "text": [
      "Chandra mohan\n"
     ]
    }
   ],
   "source": [
    "full_name = f'{first_name} {last_name}'\n",
    "print(full_name)"
   ]
  },
  {
   "cell_type": "code",
   "execution_count": null,
   "id": "e2346a8f",
   "metadata": {},
   "outputs": [],
   "source": [
    "exploring f string "
   ]
  },
  {
   "cell_type": "code",
   "execution_count": 6,
   "id": "bcab4d80",
   "metadata": {},
   "outputs": [
    {
     "name": "stdout",
     "output_type": "stream",
     "text": [
      " keep up the good work, Chandra Mohan\n"
     ]
    }
   ],
   "source": [
    "message = f' keep up the good work, {full_name.title()}'\n",
    "print(message)"
   ]
  },
  {
   "cell_type": "code",
   "execution_count": null,
   "id": "501d85fc",
   "metadata": {},
   "outputs": [],
   "source": []
  },
  {
   "cell_type": "code",
   "execution_count": null,
   "id": "f19868ea",
   "metadata": {},
   "outputs": [],
   "source": [
    "adding white spaces to a string: "
   ]
  },
  {
   "cell_type": "code",
   "execution_count": null,
   "id": "19f64ad7",
   "metadata": {},
   "outputs": [],
   "source": [
    "print('favourite_programming_language: pythonjavaC++swiftcobal')"
   ]
  },
  {
   "cell_type": "code",
   "execution_count": null,
   "id": "ddc590be",
   "metadata": {},
   "outputs": [],
   "source": [
    "\\n ----> it is new line delimiter"
   ]
  },
  {
   "cell_type": "code",
   "execution_count": 10,
   "id": "3f1c4766",
   "metadata": {},
   "outputs": [
    {
     "name": "stdout",
     "output_type": "stream",
     "text": [
      "favourite_programming_language: \n",
      "\n",
      "python\n",
      "java\n",
      "C++\n",
      "swift\n",
      "cobal\n"
     ]
    }
   ],
   "source": [
    "print('favourite_programming_language: \\n\\npython\\njava\\nC++\\nswift\\ncobal')"
   ]
  },
  {
   "cell_type": "code",
   "execution_count": null,
   "id": "d7479f17",
   "metadata": {},
   "outputs": [],
   "source": [
    "\\t ----> it is tab delimiter"
   ]
  },
  {
   "cell_type": "code",
   "execution_count": 11,
   "id": "eed3d149",
   "metadata": {},
   "outputs": [
    {
     "name": "stdout",
     "output_type": "stream",
     "text": [
      "favourite_programming_language: \n",
      "\n",
      "\tpython\n",
      "\tjava\n",
      "\tC++\n",
      "\tswift\n",
      "\tcobal\n"
     ]
    }
   ],
   "source": [
    "print('favourite_programming_language: \\n\\n\\tpython\\n\\tjava\\n\\tC++\\n\\tswift\\n\\tcobal')"
   ]
  },
  {
   "cell_type": "code",
   "execution_count": null,
   "id": "5f21f121",
   "metadata": {},
   "outputs": [],
   "source": [
    "removing white spaces from a string :"
   ]
  },
  {
   "cell_type": "code",
   "execution_count": 12,
   "id": "4351f1a1",
   "metadata": {},
   "outputs": [
    {
     "name": "stdout",
     "output_type": "stream",
     "text": [
      "chandra\n"
     ]
    }
   ],
   "source": [
    "name = 'chandra'\n",
    "print(name)"
   ]
  },
  {
   "cell_type": "code",
   "execution_count": 13,
   "id": "1d42a0d7",
   "metadata": {},
   "outputs": [
    {
     "name": "stdout",
     "output_type": "stream",
     "text": [
      "    chandra\n"
     ]
    }
   ],
   "source": [
    "name1 = '    chandra'\n",
    "print(name1)"
   ]
  },
  {
   "cell_type": "code",
   "execution_count": 14,
   "id": "5f5afd72",
   "metadata": {},
   "outputs": [
    {
     "name": "stdout",
     "output_type": "stream",
     "text": [
      "chandra   \n"
     ]
    }
   ],
   "source": [
    "name2 = 'chandra   '\n",
    "print(name2)"
   ]
  },
  {
   "cell_type": "code",
   "execution_count": 18,
   "id": "2513fd2d",
   "metadata": {},
   "outputs": [
    {
     "name": "stdout",
     "output_type": "stream",
     "text": [
      "chandra   \n"
     ]
    }
   ],
   "source": [
    "name3 = '    chandra   '\n",
    "print(name2)"
   ]
  },
  {
   "cell_type": "code",
   "execution_count": 15,
   "id": "edcbc2fb",
   "metadata": {},
   "outputs": [
    {
     "data": {
      "text/plain": [
       "'chandra'"
      ]
     },
     "execution_count": 15,
     "metadata": {},
     "output_type": "execute_result"
    }
   ],
   "source": [
    "name1.lstrip()"
   ]
  },
  {
   "cell_type": "code",
   "execution_count": 16,
   "id": "9189b4d5",
   "metadata": {},
   "outputs": [
    {
     "data": {
      "text/plain": [
       "'chandra'"
      ]
     },
     "execution_count": 16,
     "metadata": {},
     "output_type": "execute_result"
    }
   ],
   "source": [
    "name2.rstrip()"
   ]
  },
  {
   "cell_type": "code",
   "execution_count": 19,
   "id": "10925ec9",
   "metadata": {},
   "outputs": [
    {
     "data": {
      "text/plain": [
       "'chandra'"
      ]
     },
     "execution_count": 19,
     "metadata": {},
     "output_type": "execute_result"
    }
   ],
   "source": [
    "name3.strip()"
   ]
  },
  {
   "cell_type": "code",
   "execution_count": null,
   "id": "a86c95ca",
   "metadata": {},
   "outputs": [],
   "source": []
  },
  {
   "cell_type": "code",
   "execution_count": null,
   "id": "c04c7981",
   "metadata": {},
   "outputs": [],
   "source": []
  },
  {
   "cell_type": "code",
   "execution_count": null,
   "id": "b84f8f86",
   "metadata": {},
   "outputs": [],
   "source": []
  },
  {
   "cell_type": "code",
   "execution_count": null,
   "id": "c80df012",
   "metadata": {},
   "outputs": [],
   "source": []
  },
  {
   "cell_type": "code",
   "execution_count": null,
   "id": "87a4fc9f",
   "metadata": {},
   "outputs": [],
   "source": []
  },
  {
   "cell_type": "code",
   "execution_count": null,
   "id": "48b2b2cc",
   "metadata": {},
   "outputs": [],
   "source": []
  },
  {
   "cell_type": "code",
   "execution_count": null,
   "id": "31e496d4",
   "metadata": {},
   "outputs": [],
   "source": []
  },
  {
   "cell_type": "code",
   "execution_count": null,
   "id": "4ddb2712",
   "metadata": {},
   "outputs": [],
   "source": []
  },
  {
   "cell_type": "code",
   "execution_count": null,
   "id": "43819e7a",
   "metadata": {},
   "outputs": [],
   "source": []
  },
  {
   "cell_type": "code",
   "execution_count": null,
   "id": "21cc4e1e",
   "metadata": {},
   "outputs": [],
   "source": []
  },
  {
   "cell_type": "code",
   "execution_count": null,
   "id": "ea4300a6",
   "metadata": {},
   "outputs": [],
   "source": []
  },
  {
   "cell_type": "code",
   "execution_count": null,
   "id": "de0585f7",
   "metadata": {},
   "outputs": [],
   "source": []
  },
  {
   "cell_type": "code",
   "execution_count": null,
   "id": "28cc4775",
   "metadata": {},
   "outputs": [],
   "source": []
  }
 ],
 "metadata": {
  "kernelspec": {
   "display_name": "Python 3 (ipykernel)",
   "language": "python",
   "name": "python3"
  },
  "language_info": {
   "codemirror_mode": {
    "name": "ipython",
    "version": 3
   },
   "file_extension": ".py",
   "mimetype": "text/x-python",
   "name": "python",
   "nbconvert_exporter": "python",
   "pygments_lexer": "ipython3",
   "version": "3.9.7"
  }
 },
 "nbformat": 4,
 "nbformat_minor": 5
}
