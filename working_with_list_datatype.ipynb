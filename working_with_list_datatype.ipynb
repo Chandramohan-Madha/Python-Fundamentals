{
 "cells": [
  {
   "cell_type": "code",
   "execution_count": null,
   "id": "f0a53943",
   "metadata": {},
   "outputs": [],
   "source": [
    "Working with LIST datatypes"
   ]
  },
  {
   "cell_type": "code",
   "execution_count": 2,
   "id": "6f0a9bd6",
   "metadata": {},
   "outputs": [],
   "source": [
    "cars = ['kia', 'merc', 'honda','tata', 'nissan', 'bmw','audi']"
   ]
  },
  {
   "cell_type": "code",
   "execution_count": null,
   "id": "b4b2f537",
   "metadata": {},
   "outputs": [],
   "source": []
  },
  {
   "cell_type": "code",
   "execution_count": null,
   "id": "981554c2",
   "metadata": {},
   "outputs": [],
   "source": [
    "#req : list the elements in alphabetical order"
   ]
  },
  {
   "cell_type": "code",
   "execution_count": null,
   "id": "b39cdaec",
   "metadata": {},
   "outputs": [],
   "source": [
    "two approaches :\n",
    "    \n",
    "    1.temporary approach : sorted -----> we can maintain the original order of the elements in the list\n",
    "    2. Permanent approach : sort -----> "
   ]
  },
  {
   "cell_type": "code",
   "execution_count": 3,
   "id": "8138e76c",
   "metadata": {},
   "outputs": [
    {
     "name": "stdout",
     "output_type": "stream",
     "text": [
      "['audi', 'bmw', 'honda', 'kia', 'merc', 'nissan', 'tata']\n"
     ]
    }
   ],
   "source": [
    "print(sorted(cars))  #temporary approach"
   ]
  },
  {
   "cell_type": "code",
   "execution_count": 4,
   "id": "591f40a4",
   "metadata": {},
   "outputs": [
    {
     "name": "stdout",
     "output_type": "stream",
     "text": [
      "['kia', 'merc', 'honda', 'tata', 'nissan', 'bmw', 'audi']\n"
     ]
    }
   ],
   "source": [
    "print(cars)  #original order remains same"
   ]
  },
  {
   "cell_type": "code",
   "execution_count": 5,
   "id": "abcf47a9",
   "metadata": {},
   "outputs": [],
   "source": [
    "cars.sort()"
   ]
  },
  {
   "cell_type": "code",
   "execution_count": 6,
   "id": "3c829602",
   "metadata": {},
   "outputs": [
    {
     "name": "stdout",
     "output_type": "stream",
     "text": [
      "['audi', 'bmw', 'honda', 'kia', 'merc', 'nissan', 'tata']\n"
     ]
    }
   ],
   "source": [
    "print(cars) #lost the original order "
   ]
  },
  {
   "cell_type": "code",
   "execution_count": null,
   "id": "69e1954e",
   "metadata": {},
   "outputs": [],
   "source": []
  },
  {
   "cell_type": "code",
   "execution_count": null,
   "id": "4d6c9e8e",
   "metadata": {},
   "outputs": [],
   "source": [
    "#print the list in the reverse alphabetical order"
   ]
  },
  {
   "cell_type": "code",
   "execution_count": 7,
   "id": "af7976ea",
   "metadata": {},
   "outputs": [],
   "source": [
    "cars.reverse()"
   ]
  },
  {
   "cell_type": "code",
   "execution_count": 8,
   "id": "c47f8cf8",
   "metadata": {},
   "outputs": [
    {
     "name": "stdout",
     "output_type": "stream",
     "text": [
      "['tata', 'nissan', 'merc', 'kia', 'honda', 'bmw', 'audi']\n"
     ]
    }
   ],
   "source": [
    "print(cars)"
   ]
  },
  {
   "cell_type": "code",
   "execution_count": null,
   "id": "df4f53f1",
   "metadata": {},
   "outputs": [],
   "source": []
  },
  {
   "cell_type": "code",
   "execution_count": null,
   "id": "32623751",
   "metadata": {},
   "outputs": [],
   "source": [
    "#req number of elements in the list"
   ]
  },
  {
   "cell_type": "code",
   "execution_count": 9,
   "id": "08048f97",
   "metadata": {},
   "outputs": [
    {
     "data": {
      "text/plain": [
       "7"
      ]
     },
     "execution_count": 9,
     "metadata": {},
     "output_type": "execute_result"
    }
   ],
   "source": [
    "len(cars)"
   ]
  },
  {
   "cell_type": "code",
   "execution_count": null,
   "id": "dcf89b32",
   "metadata": {},
   "outputs": [],
   "source": []
  },
  {
   "cell_type": "code",
   "execution_count": null,
   "id": "83ffe275",
   "metadata": {},
   "outputs": [],
   "source": [
    "INTRODUCTION TO SLICING :"
   ]
  },
  {
   "cell_type": "code",
   "execution_count": 10,
   "id": "dd8ddbe6",
   "metadata": {},
   "outputs": [],
   "source": [
    "students = ['akhil', 'chandra', 'sneha', 'david', 'ramesh','hemanth']"
   ]
  },
  {
   "cell_type": "code",
   "execution_count": 11,
   "id": "e52546f4",
   "metadata": {},
   "outputs": [
    {
     "name": "stdout",
     "output_type": "stream",
     "text": [
      "['akhil', 'chandra', 'sneha', 'david', 'ramesh', 'hemanth']\n"
     ]
    }
   ],
   "source": [
    "print(students)"
   ]
  },
  {
   "cell_type": "code",
   "execution_count": 12,
   "id": "c9ba998b",
   "metadata": {},
   "outputs": [
    {
     "data": {
      "text/plain": [
       "list"
      ]
     },
     "execution_count": 12,
     "metadata": {},
     "output_type": "execute_result"
    }
   ],
   "source": [
    "type(students)"
   ]
  },
  {
   "cell_type": "code",
   "execution_count": null,
   "id": "9fb14715",
   "metadata": {},
   "outputs": [],
   "source": [
    "general syntax of slicing\n",
    "\n",
    "[startvalue : stopvalue : stepsize]  #stop vale is always exclusive, to make it inclusive need to increment the index by 1"
   ]
  },
  {
   "cell_type": "code",
   "execution_count": null,
   "id": "cfcb81a8",
   "metadata": {},
   "outputs": [],
   "source": [
    "#req want akhil and chandra as output"
   ]
  },
  {
   "cell_type": "code",
   "execution_count": 14,
   "id": "898ae4d0",
   "metadata": {},
   "outputs": [
    {
     "data": {
      "text/plain": [
       "['akhil', 'chandra']"
      ]
     },
     "execution_count": 14,
     "metadata": {},
     "output_type": "execute_result"
    }
   ],
   "source": [
    "students[0:2]"
   ]
  },
  {
   "cell_type": "code",
   "execution_count": null,
   "id": "2816b901",
   "metadata": {},
   "outputs": [],
   "source": [
    "#req: want sneha and david as output"
   ]
  },
  {
   "cell_type": "code",
   "execution_count": 15,
   "id": "a96c1e1a",
   "metadata": {},
   "outputs": [
    {
     "data": {
      "text/plain": [
       "['sneha', 'david']"
      ]
     },
     "execution_count": 15,
     "metadata": {},
     "output_type": "execute_result"
    }
   ],
   "source": [
    "students[2:4]"
   ]
  },
  {
   "cell_type": "code",
   "execution_count": null,
   "id": "fd68b04c",
   "metadata": {},
   "outputs": [],
   "source": [
    "#req:  want ramesh and hemanth as output"
   ]
  },
  {
   "cell_type": "code",
   "execution_count": 16,
   "id": "12011804",
   "metadata": {},
   "outputs": [
    {
     "data": {
      "text/plain": [
       "['ramesh', 'hemanth']"
      ]
     },
     "execution_count": 16,
     "metadata": {},
     "output_type": "execute_result"
    }
   ],
   "source": [
    "students[4:6]"
   ]
  },
  {
   "cell_type": "code",
   "execution_count": 17,
   "id": "0d66c4dc",
   "metadata": {},
   "outputs": [
    {
     "data": {
      "text/plain": [
       "['ramesh', 'hemanth']"
      ]
     },
     "execution_count": 17,
     "metadata": {},
     "output_type": "execute_result"
    }
   ],
   "source": [
    "students[4:]"
   ]
  },
  {
   "cell_type": "code",
   "execution_count": null,
   "id": "e1e8dc0d",
   "metadata": {},
   "outputs": [],
   "source": []
  }
 ],
 "metadata": {
  "kernelspec": {
   "display_name": "Python 3 (ipykernel)",
   "language": "python",
   "name": "python3"
  },
  "language_info": {
   "codemirror_mode": {
    "name": "ipython",
    "version": 3
   },
   "file_extension": ".py",
   "mimetype": "text/x-python",
   "name": "python",
   "nbconvert_exporter": "python",
   "pygments_lexer": "ipython3",
   "version": "3.9.7"
  }
 },
 "nbformat": 4,
 "nbformat_minor": 5
}
