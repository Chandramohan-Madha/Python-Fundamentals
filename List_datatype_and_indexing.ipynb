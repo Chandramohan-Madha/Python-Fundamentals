{
 "cells": [
  {
   "cell_type": "code",
   "execution_count": null,
   "id": "5c10ab5e",
   "metadata": {},
   "outputs": [],
   "source": [
    "Introduction to List datatype"
   ]
  },
  {
   "cell_type": "code",
   "execution_count": null,
   "id": "faef033d",
   "metadata": {},
   "outputs": [],
   "source": [
    "definition : collection of items declared in a particular order\n",
    "    \n",
    "classification : it is a mutable datatype\n",
    "\n",
    "list is declared in []"
   ]
  },
  {
   "cell_type": "code",
   "execution_count": null,
   "id": "ab7e6168",
   "metadata": {},
   "outputs": [],
   "source": []
  },
  {
   "cell_type": "code",
   "execution_count": 5,
   "id": "4cf24114",
   "metadata": {},
   "outputs": [],
   "source": [
    "friends = ['ravi', 'Sneha', 'chandu', 'david', 'imran']"
   ]
  },
  {
   "cell_type": "code",
   "execution_count": 6,
   "id": "1fd2b416",
   "metadata": {},
   "outputs": [
    {
     "name": "stdout",
     "output_type": "stream",
     "text": [
      "['ravi', 'Sneha', 'chandu', 'david', 'imran']\n"
     ]
    }
   ],
   "source": [
    "print(friends)"
   ]
  },
  {
   "cell_type": "code",
   "execution_count": 7,
   "id": "279df33f",
   "metadata": {},
   "outputs": [
    {
     "data": {
      "text/plain": [
       "list"
      ]
     },
     "execution_count": 7,
     "metadata": {},
     "output_type": "execute_result"
    }
   ],
   "source": [
    "type(friends)"
   ]
  },
  {
   "cell_type": "code",
   "execution_count": null,
   "id": "f8e02dd6",
   "metadata": {},
   "outputs": [],
   "source": []
  },
  {
   "cell_type": "code",
   "execution_count": null,
   "id": "59fc1701",
   "metadata": {},
   "outputs": [],
   "source": [
    "Introduction to indexing : starts with 0"
   ]
  },
  {
   "cell_type": "code",
   "execution_count": null,
   "id": "10e04294",
   "metadata": {},
   "outputs": [],
   "source": [
    "#requirement is to get chandu as output"
   ]
  },
  {
   "cell_type": "code",
   "execution_count": 8,
   "id": "8c1ce436",
   "metadata": {},
   "outputs": [
    {
     "name": "stdout",
     "output_type": "stream",
     "text": [
      "chandu\n"
     ]
    }
   ],
   "source": [
    "print(friends[2])"
   ]
  },
  {
   "cell_type": "code",
   "execution_count": 9,
   "id": "f60934cc",
   "metadata": {},
   "outputs": [
    {
     "name": "stdout",
     "output_type": "stream",
     "text": [
      "Chandu\n"
     ]
    }
   ],
   "source": [
    "print(friends[2].title())"
   ]
  },
  {
   "cell_type": "code",
   "execution_count": null,
   "id": "66e087d8",
   "metadata": {},
   "outputs": [],
   "source": [
    "#requirement is to get imran as output"
   ]
  },
  {
   "cell_type": "code",
   "execution_count": 10,
   "id": "0898fd6a",
   "metadata": {},
   "outputs": [
    {
     "name": "stdout",
     "output_type": "stream",
     "text": [
      "imran\n"
     ]
    }
   ],
   "source": [
    "print(friends[4])"
   ]
  },
  {
   "cell_type": "code",
   "execution_count": 11,
   "id": "864ea351",
   "metadata": {},
   "outputs": [
    {
     "name": "stdout",
     "output_type": "stream",
     "text": [
      "Imran\n"
     ]
    }
   ],
   "source": [
    "print(friends[4].title())"
   ]
  },
  {
   "cell_type": "code",
   "execution_count": 12,
   "id": "1eea73d3",
   "metadata": {},
   "outputs": [
    {
     "name": "stdout",
     "output_type": "stream",
     "text": [
      "['ravi', 'Sneha', 'chandu', 'david', 'imran']\n"
     ]
    }
   ],
   "source": [
    "print(friends)"
   ]
  },
  {
   "cell_type": "code",
   "execution_count": null,
   "id": "99ffb3ce",
   "metadata": {},
   "outputs": [],
   "source": [
    "1. How to add new friends(elements) to the friends list\n",
    "\n",
    "2.How to modify the list\n",
    "\n",
    "3.how to delete friends(elements) from a list "
   ]
  },
  {
   "cell_type": "code",
   "execution_count": null,
   "id": "27750f03",
   "metadata": {},
   "outputs": [],
   "source": [
    "#req : want to add bhanu to the friends list"
   ]
  },
  {
   "cell_type": "code",
   "execution_count": 14,
   "id": "7ad91b7c",
   "metadata": {},
   "outputs": [
    {
     "name": "stdout",
     "output_type": "stream",
     "text": [
      "['ravi', 'Sneha', 'chandu', 'david', 'imran', 'bhanu', 'bhanu']\n"
     ]
    }
   ],
   "source": [
    "friends.append('bhanu')\n",
    "\n",
    "print(friends)"
   ]
  },
  {
   "cell_type": "code",
   "execution_count": 15,
   "id": "897c3d3c",
   "metadata": {},
   "outputs": [
    {
     "name": "stdout",
     "output_type": "stream",
     "text": [
      "['ravi', 'Sneha', 'chandu', 'david', 'imran', 'bhanu', 'bhanu', 'shanti']\n"
     ]
    }
   ],
   "source": [
    "friends.append('shanti')\n",
    "\n",
    "print(friends)"
   ]
  },
  {
   "cell_type": "code",
   "execution_count": null,
   "id": "37418353",
   "metadata": {},
   "outputs": [],
   "source": [
    "#req : want to add dinesh at index 3"
   ]
  },
  {
   "cell_type": "code",
   "execution_count": 16,
   "id": "12c103d8",
   "metadata": {},
   "outputs": [
    {
     "name": "stdout",
     "output_type": "stream",
     "text": [
      "['ravi', 'Sneha', 'chandu', 'dinesh', 'david', 'imran', 'bhanu', 'bhanu', 'shanti']\n"
     ]
    }
   ],
   "source": [
    "friends.insert(3,'dinesh')\n",
    "print(friends)"
   ]
  },
  {
   "cell_type": "code",
   "execution_count": 17,
   "id": "7f2315f9",
   "metadata": {},
   "outputs": [
    {
     "name": "stdout",
     "output_type": "stream",
     "text": [
      "Dinesh\n"
     ]
    }
   ],
   "source": [
    "print(friends[3].title())"
   ]
  },
  {
   "cell_type": "code",
   "execution_count": 19,
   "id": "6079ae7c",
   "metadata": {},
   "outputs": [
    {
     "name": "stdout",
     "output_type": "stream",
     "text": [
      "['ravi', 'Sneha', 'chandu', 'dinesh', 'david', 'imran', 'bhanu', 'bhanu', 'shanti']\n"
     ]
    }
   ],
   "source": [
    "print(friends)"
   ]
  },
  {
   "cell_type": "code",
   "execution_count": null,
   "id": "ed658096",
   "metadata": {},
   "outputs": [],
   "source": [
    "#please explain difference between append and insert method \n",
    "\n",
    "Append adds an element at the end of the list\n",
    "\n",
    "Insert adds an element at the deried index value"
   ]
  },
  {
   "cell_type": "code",
   "execution_count": null,
   "id": "83e125d4",
   "metadata": {},
   "outputs": [],
   "source": [
    "#req : want to modify ravi name to raju"
   ]
  },
  {
   "cell_type": "code",
   "execution_count": 20,
   "id": "9b1d4a97",
   "metadata": {},
   "outputs": [
    {
     "name": "stdout",
     "output_type": "stream",
     "text": [
      "['raju', 'Sneha', 'chandu', 'dinesh', 'david', 'imran', 'bhanu', 'bhanu', 'shanti']\n"
     ]
    }
   ],
   "source": [
    "friends[0] = 'raju'\n",
    "\n",
    "print(friends)"
   ]
  },
  {
   "cell_type": "code",
   "execution_count": null,
   "id": "125e590d",
   "metadata": {},
   "outputs": [],
   "source": [
    "#delete bhanu from the friends list"
   ]
  },
  {
   "cell_type": "code",
   "execution_count": null,
   "id": "2116ef16",
   "metadata": {},
   "outputs": [],
   "source": []
  },
  {
   "cell_type": "code",
   "execution_count": 21,
   "id": "f02e9b0f",
   "metadata": {},
   "outputs": [],
   "source": [
    "del friends[6] -----> this deleted permanently"
   ]
  },
  {
   "cell_type": "code",
   "execution_count": 22,
   "id": "e4dc5c1d",
   "metadata": {},
   "outputs": [
    {
     "name": "stdout",
     "output_type": "stream",
     "text": [
      "['raju', 'Sneha', 'chandu', 'dinesh', 'david', 'imran', 'bhanu', 'shanti']\n"
     ]
    }
   ],
   "source": [
    "print(friends)"
   ]
  },
  {
   "cell_type": "code",
   "execution_count": null,
   "id": "3866cbf4",
   "metadata": {},
   "outputs": [],
   "source": [
    "pop ---> by default it will delete the last element of the list and save it in variable assigned"
   ]
  },
  {
   "cell_type": "code",
   "execution_count": 23,
   "id": "9f94e7d5",
   "metadata": {},
   "outputs": [
    {
     "name": "stdout",
     "output_type": "stream",
     "text": [
      "['raju', 'Sneha', 'chandu', 'dinesh', 'david', 'imran', 'bhanu', 'shanti']\n"
     ]
    }
   ],
   "source": [
    "print(friends)"
   ]
  },
  {
   "cell_type": "code",
   "execution_count": 24,
   "id": "f16df2a5",
   "metadata": {},
   "outputs": [],
   "source": [
    "x = friends.pop()"
   ]
  },
  {
   "cell_type": "code",
   "execution_count": 25,
   "id": "c0525af1",
   "metadata": {},
   "outputs": [
    {
     "name": "stdout",
     "output_type": "stream",
     "text": [
      "['raju', 'Sneha', 'chandu', 'dinesh', 'david', 'imran', 'bhanu']\n"
     ]
    }
   ],
   "source": [
    "print(friends)"
   ]
  },
  {
   "cell_type": "code",
   "execution_count": 26,
   "id": "103a4161",
   "metadata": {},
   "outputs": [
    {
     "name": "stdout",
     "output_type": "stream",
     "text": [
      "shanti\n"
     ]
    }
   ],
   "source": [
    "print(x)"
   ]
  },
  {
   "cell_type": "code",
   "execution_count": null,
   "id": "d87a8457",
   "metadata": {},
   "outputs": [],
   "source": []
  },
  {
   "cell_type": "code",
   "execution_count": null,
   "id": "fb014312",
   "metadata": {},
   "outputs": [],
   "source": [
    "Introduction to negative indexing : starts with -1, -2,-3"
   ]
  },
  {
   "cell_type": "code",
   "execution_count": 27,
   "id": "5235f8c6",
   "metadata": {},
   "outputs": [
    {
     "name": "stdout",
     "output_type": "stream",
     "text": [
      "['raju', 'Sneha', 'chandu', 'dinesh', 'david', 'imran', 'bhanu']\n"
     ]
    }
   ],
   "source": [
    "print(friends)"
   ]
  },
  {
   "cell_type": "code",
   "execution_count": 29,
   "id": "55ef01b2",
   "metadata": {},
   "outputs": [
    {
     "name": "stdout",
     "output_type": "stream",
     "text": [
      "Bhanu\n"
     ]
    }
   ],
   "source": [
    "print(friends[-1].title())"
   ]
  },
  {
   "cell_type": "code",
   "execution_count": null,
   "id": "171a98f0",
   "metadata": {},
   "outputs": [],
   "source": []
  },
  {
   "cell_type": "code",
   "execution_count": 30,
   "id": "3a900bd9",
   "metadata": {},
   "outputs": [
    {
     "name": "stdout",
     "output_type": "stream",
     "text": [
      "The Zen of Python, by Tim Peters\n",
      "\n",
      "Beautiful is better than ugly.\n",
      "Explicit is better than implicit.\n",
      "Simple is better than complex.\n",
      "Complex is better than complicated.\n",
      "Flat is better than nested.\n",
      "Sparse is better than dense.\n",
      "Readability counts.\n",
      "Special cases aren't special enough to break the rules.\n",
      "Although practicality beats purity.\n",
      "Errors should never pass silently.\n",
      "Unless explicitly silenced.\n",
      "In the face of ambiguity, refuse the temptation to guess.\n",
      "There should be one-- and preferably only one --obvious way to do it.\n",
      "Although that way may not be obvious at first unless you're Dutch.\n",
      "Now is better than never.\n",
      "Although never is often better than *right* now.\n",
      "If the implementation is hard to explain, it's a bad idea.\n",
      "If the implementation is easy to explain, it may be a good idea.\n",
      "Namespaces are one honking great idea -- let's do more of those!\n"
     ]
    }
   ],
   "source": [
    "import this"
   ]
  },
  {
   "cell_type": "code",
   "execution_count": null,
   "id": "b7206b22",
   "metadata": {},
   "outputs": [],
   "source": []
  },
  {
   "cell_type": "code",
   "execution_count": null,
   "id": "7ca390ba",
   "metadata": {},
   "outputs": [],
   "source": []
  }
 ],
 "metadata": {
  "kernelspec": {
   "display_name": "Python 3 (ipykernel)",
   "language": "python",
   "name": "python3"
  },
  "language_info": {
   "codemirror_mode": {
    "name": "ipython",
    "version": 3
   },
   "file_extension": ".py",
   "mimetype": "text/x-python",
   "name": "python",
   "nbconvert_exporter": "python",
   "pygments_lexer": "ipython3",
   "version": "3.9.7"
  }
 },
 "nbformat": 4,
 "nbformat_minor": 5
}
