{
 "cells": [
  {
   "cell_type": "code",
   "execution_count": null,
   "id": "a3bf7fca",
   "metadata": {},
   "outputs": [],
   "source": [
    "Understanding the variables in python :"
   ]
  },
  {
   "cell_type": "code",
   "execution_count": 9,
   "id": "b6d83063",
   "metadata": {},
   "outputs": [],
   "source": [
    "a = 5\n",
    "b = 6"
   ]
  },
  {
   "cell_type": "code",
   "execution_count": 10,
   "id": "7eeb37f5",
   "metadata": {},
   "outputs": [
    {
     "name": "stdout",
     "output_type": "stream",
     "text": [
      "11\n"
     ]
    }
   ],
   "source": [
    "c = a +b\n",
    "print (c)"
   ]
  },
  {
   "cell_type": "code",
   "execution_count": null,
   "id": "a793b121",
   "metadata": {},
   "outputs": [],
   "source": []
  },
  {
   "cell_type": "code",
   "execution_count": null,
   "id": "f84e68c3",
   "metadata": {},
   "outputs": [],
   "source": [
    "rules for declaring the variables"
   ]
  },
  {
   "cell_type": "code",
   "execution_count": null,
   "id": "5011eb18",
   "metadata": {},
   "outputs": [],
   "source": [
    "rule 1 : no name spaces while declaring the variable in python"
   ]
  },
  {
   "cell_type": "code",
   "execution_count": 2,
   "id": "3a2b8e5d",
   "metadata": {},
   "outputs": [
    {
     "ename": "SyntaxError",
     "evalue": "invalid syntax (Temp/ipykernel_26936/4229854386.py, line 1)",
     "output_type": "error",
     "traceback": [
      "\u001b[1;36m  File \u001b[1;32m\"C:\\Users\\MaddaC\\AppData\\Local\\Temp/ipykernel_26936/4229854386.py\"\u001b[1;36m, line \u001b[1;32m1\u001b[0m\n\u001b[1;33m    first name = 'chandra'\u001b[0m\n\u001b[1;37m          ^\u001b[0m\n\u001b[1;31mSyntaxError\u001b[0m\u001b[1;31m:\u001b[0m invalid syntax\n"
     ]
    }
   ],
   "source": [
    "first name = 'chandra'"
   ]
  },
  {
   "cell_type": "code",
   "execution_count": 3,
   "id": "e5c2f201",
   "metadata": {},
   "outputs": [
    {
     "name": "stdout",
     "output_type": "stream",
     "text": [
      "Chandra\n"
     ]
    }
   ],
   "source": [
    "firstname = 'Chandra'\n",
    "\n",
    "print(firstname)"
   ]
  },
  {
   "cell_type": "code",
   "execution_count": null,
   "id": "3bde3e4e",
   "metadata": {},
   "outputs": [],
   "source": [
    "Rule 2 : A variable name should not start with a number **"
   ]
  },
  {
   "cell_type": "code",
   "execution_count": 4,
   "id": "d3f0388f",
   "metadata": {},
   "outputs": [
    {
     "ename": "SyntaxError",
     "evalue": "invalid syntax (Temp/ipykernel_26936/4189756119.py, line 1)",
     "output_type": "error",
     "traceback": [
      "\u001b[1;36m  File \u001b[1;32m\"C:\\Users\\MaddaC\\AppData\\Local\\Temp/ipykernel_26936/4189756119.py\"\u001b[1;36m, line \u001b[1;32m1\u001b[0m\n\u001b[1;33m    3name = 'chandra'\u001b[0m\n\u001b[1;37m     ^\u001b[0m\n\u001b[1;31mSyntaxError\u001b[0m\u001b[1;31m:\u001b[0m invalid syntax\n"
     ]
    }
   ],
   "source": [
    "3name = 'chandra'"
   ]
  },
  {
   "cell_type": "code",
   "execution_count": 6,
   "id": "d86484f3",
   "metadata": {},
   "outputs": [
    {
     "name": "stdout",
     "output_type": "stream",
     "text": [
      "chandu\n"
     ]
    }
   ],
   "source": [
    "name1 = 'chandu'\n",
    "print(name1)"
   ]
  },
  {
   "cell_type": "code",
   "execution_count": null,
   "id": "ffaaee9a",
   "metadata": {},
   "outputs": [],
   "source": [
    "Rule 3 : A variable name should not contain any special charecters(! @ $ % & ?)"
   ]
  },
  {
   "cell_type": "code",
   "execution_count": 11,
   "id": "b45e3e77",
   "metadata": {},
   "outputs": [
    {
     "ename": "SyntaxError",
     "evalue": "invalid syntax (Temp/ipykernel_26936/928725376.py, line 1)",
     "output_type": "error",
     "traceback": [
      "\u001b[1;36m  File \u001b[1;32m\"C:\\Users\\MaddaC\\AppData\\Local\\Temp/ipykernel_26936/928725376.py\"\u001b[1;36m, line \u001b[1;32m1\u001b[0m\n\u001b[1;33m    name! = 'chandu'\u001b[0m\n\u001b[1;37m        ^\u001b[0m\n\u001b[1;31mSyntaxError\u001b[0m\u001b[1;31m:\u001b[0m invalid syntax\n"
     ]
    }
   ],
   "source": [
    "name! = 'chandu'\n",
    "\n",
    "print(name!)"
   ]
  },
  {
   "cell_type": "code",
   "execution_count": null,
   "id": "1aa608a4",
   "metadata": {},
   "outputs": [],
   "source": [
    "Introduction to Data types in python :\n",
    "    \n",
    "    1. strings -----> str\n",
    "    2. lists   -----> list\n",
    "    3. numbers -----> integers (int), float(decimals)\n",
    "    4. tuples  -----> tuple\n",
    "    5. dictionaries -> dict"
   ]
  },
  {
   "cell_type": "code",
   "execution_count": null,
   "id": "aca4b3e8",
   "metadata": {},
   "outputs": [],
   "source": []
  },
  {
   "cell_type": "code",
   "execution_count": null,
   "id": "513bb359",
   "metadata": {},
   "outputs": [],
   "source": [
    "Classification of data types :\n",
    "    broadly dtypes are classified into two :\n",
    "        \n",
    "        1. mutable(can be edited or altered, flexible in nature)\n",
    "        \n",
    "        2. immutable (Cannot be edited or altered, fixed in nature)"
   ]
  },
  {
   "cell_type": "code",
   "execution_count": null,
   "id": "d793175f",
   "metadata": {},
   "outputs": [],
   "source": []
  },
  {
   "cell_type": "code",
   "execution_count": null,
   "id": "913ed08f",
   "metadata": {},
   "outputs": [],
   "source": [
    "Introduction to string datatype:\n",
    "    \n",
    "    \n",
    "Definition : A string is a series of characters declared in quotes.\n",
    "Classification : it is classified as immutable datatype\n",
    "    \n",
    "How to declare a string :\n",
    "    1. single quote''\n",
    "    2. double quote\"\""
   ]
  },
  {
   "cell_type": "code",
   "execution_count": 12,
   "id": "a92a665f",
   "metadata": {},
   "outputs": [
    {
     "name": "stdout",
     "output_type": "stream",
     "text": [
      "python\n"
     ]
    }
   ],
   "source": [
    "name = 'python' #single quote\n",
    "print(name)"
   ]
  },
  {
   "cell_type": "code",
   "execution_count": 13,
   "id": "30fe02f6",
   "metadata": {},
   "outputs": [
    {
     "name": "stdout",
     "output_type": "stream",
     "text": [
      "programming\n"
     ]
    }
   ],
   "source": [
    "name2 = \"programming\" #double quote\n",
    "print(name2)"
   ]
  },
  {
   "cell_type": "code",
   "execution_count": null,
   "id": "0970d7d9",
   "metadata": {},
   "outputs": [],
   "source": []
  },
  {
   "cell_type": "code",
   "execution_count": null,
   "id": "cbcb40c1",
   "metadata": {},
   "outputs": [],
   "source": [
    "Introduction to string methods :"
   ]
  },
  {
   "cell_type": "code",
   "execution_count": null,
   "id": "0f5378ce",
   "metadata": {},
   "outputs": [],
   "source": [
    "methods are nothing but the builtin programs that are available in python to use directly"
   ]
  },
  {
   "cell_type": "code",
   "execution_count": 14,
   "id": "8546cb89",
   "metadata": {},
   "outputs": [
    {
     "data": {
      "text/plain": [
       "str"
      ]
     },
     "execution_count": 14,
     "metadata": {},
     "output_type": "execute_result"
    }
   ],
   "source": [
    "type(name)"
   ]
  },
  {
   "cell_type": "code",
   "execution_count": 16,
   "id": "f1cea9ff",
   "metadata": {},
   "outputs": [
    {
     "data": {
      "text/plain": [
       "str"
      ]
     },
     "execution_count": 16,
     "metadata": {},
     "output_type": "execute_result"
    }
   ],
   "source": [
    "type(name1)"
   ]
  },
  {
   "cell_type": "code",
   "execution_count": 18,
   "id": "c0e15557",
   "metadata": {},
   "outputs": [
    {
     "name": "stdout",
     "output_type": "stream",
     "text": [
      "chandra mohan\n"
     ]
    }
   ],
   "source": [
    "fullname = 'chandra mohan'\n",
    "print(fullname)"
   ]
  },
  {
   "cell_type": "code",
   "execution_count": null,
   "id": "062e919d",
   "metadata": {},
   "outputs": [],
   "source": []
  },
  {
   "cell_type": "code",
   "execution_count": null,
   "id": "5504224c",
   "metadata": {},
   "outputs": [],
   "source": [
    "requirement : change first letter of the name to capitals"
   ]
  },
  {
   "cell_type": "code",
   "execution_count": 19,
   "id": "168dcbd2",
   "metadata": {},
   "outputs": [
    {
     "name": "stdout",
     "output_type": "stream",
     "text": [
      "Chandra Mohan\n"
     ]
    }
   ],
   "source": [
    "print(fullname.title())"
   ]
  },
  {
   "cell_type": "code",
   "execution_count": null,
   "id": "e02eb6d0",
   "metadata": {},
   "outputs": [],
   "source": [
    "requirement : to get the full name in capitals"
   ]
  },
  {
   "cell_type": "code",
   "execution_count": 20,
   "id": "3ecc9170",
   "metadata": {},
   "outputs": [
    {
     "name": "stdout",
     "output_type": "stream",
     "text": [
      "CHANDRA MOHAN\n"
     ]
    }
   ],
   "source": [
    "print(fullname.upper())"
   ]
  },
  {
   "cell_type": "code",
   "execution_count": null,
   "id": "04e6178d",
   "metadata": {},
   "outputs": [],
   "source": [
    "requirement : to get the full name in small letters"
   ]
  },
  {
   "cell_type": "code",
   "execution_count": 21,
   "id": "44c5f6bb",
   "metadata": {},
   "outputs": [
    {
     "name": "stdout",
     "output_type": "stream",
     "text": [
      "chandra mohan\n"
     ]
    }
   ],
   "source": [
    "print(fullname.lower())"
   ]
  },
  {
   "cell_type": "code",
   "execution_count": null,
   "id": "6286a993",
   "metadata": {},
   "outputs": [],
   "source": []
  },
  {
   "cell_type": "code",
   "execution_count": null,
   "id": "970d3e1c",
   "metadata": {},
   "outputs": [],
   "source": []
  },
  {
   "cell_type": "code",
   "execution_count": null,
   "id": "1e6e71f7",
   "metadata": {},
   "outputs": [],
   "source": []
  },
  {
   "cell_type": "code",
   "execution_count": null,
   "id": "891cb18a",
   "metadata": {},
   "outputs": [],
   "source": []
  },
  {
   "cell_type": "code",
   "execution_count": null,
   "id": "6cceed48",
   "metadata": {},
   "outputs": [],
   "source": []
  }
 ],
 "metadata": {
  "kernelspec": {
   "display_name": "Python 3 (ipykernel)",
   "language": "python",
   "name": "python3"
  },
  "language_info": {
   "codemirror_mode": {
    "name": "ipython",
    "version": 3
   },
   "file_extension": ".py",
   "mimetype": "text/x-python",
   "name": "python",
   "nbconvert_exporter": "python",
   "pygments_lexer": "ipython3",
   "version": "3.9.7"
  }
 },
 "nbformat": 4,
 "nbformat_minor": 5
}
