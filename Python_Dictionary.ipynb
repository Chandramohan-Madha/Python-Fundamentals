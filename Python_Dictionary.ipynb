{
 "cells": [
  {
   "cell_type": "code",
   "execution_count": null,
   "id": "8433c207",
   "metadata": {},
   "outputs": [],
   "source": [
    "Introduction to dictionary :"
   ]
  },
  {
   "cell_type": "code",
   "execution_count": null,
   "id": "703bfa16",
   "metadata": {},
   "outputs": [],
   "source": [
    "Definition : A dict is a combination of key - value pairs\n",
    "\n",
    "classification : It is classified as mutable object datatype\n",
    "\n",
    "how to declare the dictionary ------ {}"
   ]
  },
  {
   "cell_type": "code",
   "execution_count": null,
   "id": "dcb8dd4c",
   "metadata": {},
   "outputs": [],
   "source": [
    "note : dictionaries are used in most of the real world applications "
   ]
  },
  {
   "cell_type": "code",
   "execution_count": null,
   "id": "db4a7a6a",
   "metadata": {},
   "outputs": [],
   "source": []
  },
  {
   "cell_type": "code",
   "execution_count": null,
   "id": "408036f8",
   "metadata": {},
   "outputs": [],
   "source": [
    "#req :  creating an alien"
   ]
  },
  {
   "cell_type": "code",
   "execution_count": 2,
   "id": "592601e2",
   "metadata": {},
   "outputs": [],
   "source": [
    "alien = {'color' : 'red', 'points': 6, 'level': 1}"
   ]
  },
  {
   "cell_type": "code",
   "execution_count": 3,
   "id": "498f8d7e",
   "metadata": {},
   "outputs": [
    {
     "name": "stdout",
     "output_type": "stream",
     "text": [
      "{'color': 'red', 'points': 6, 'level': 1}\n"
     ]
    }
   ],
   "source": [
    "print(alien)"
   ]
  },
  {
   "cell_type": "code",
   "execution_count": 4,
   "id": "72c5f9fa",
   "metadata": {},
   "outputs": [
    {
     "data": {
      "text/plain": [
       "dict"
      ]
     },
     "execution_count": 4,
     "metadata": {},
     "output_type": "execute_result"
    }
   ],
   "source": [
    "type(alien)"
   ]
  },
  {
   "cell_type": "code",
   "execution_count": null,
   "id": "93e8d336",
   "metadata": {},
   "outputs": [],
   "source": [
    "# how to access the value from the dictionary"
   ]
  },
  {
   "cell_type": "code",
   "execution_count": null,
   "id": "e6ec0c7e",
   "metadata": {},
   "outputs": [],
   "source": [
    "#req -- I want to know the color of the alien?"
   ]
  },
  {
   "cell_type": "code",
   "execution_count": 5,
   "id": "7ef9e592",
   "metadata": {},
   "outputs": [
    {
     "name": "stdout",
     "output_type": "stream",
     "text": [
      "red\n"
     ]
    }
   ],
   "source": [
    "print(alien['color'])"
   ]
  },
  {
   "cell_type": "code",
   "execution_count": null,
   "id": "350cb1da",
   "metadata": {},
   "outputs": [],
   "source": [
    "Note : give the key and get the value"
   ]
  },
  {
   "cell_type": "code",
   "execution_count": 6,
   "id": "cc890b13",
   "metadata": {},
   "outputs": [
    {
     "name": "stdout",
     "output_type": "stream",
     "text": [
      "1\n"
     ]
    }
   ],
   "source": [
    "print(alien['level'])"
   ]
  },
  {
   "cell_type": "code",
   "execution_count": 8,
   "id": "1383dd39",
   "metadata": {},
   "outputs": [
    {
     "ename": "KeyError",
     "evalue": "'6'",
     "output_type": "error",
     "traceback": [
      "\u001b[1;31m---------------------------------------------------------------------------\u001b[0m",
      "\u001b[1;31mKeyError\u001b[0m                                  Traceback (most recent call last)",
      "\u001b[1;32m~\\AppData\\Local\\Temp/ipykernel_15108/1049446329.py\u001b[0m in \u001b[0;36m<module>\u001b[1;34m\u001b[0m\n\u001b[1;32m----> 1\u001b[1;33m \u001b[0mprint\u001b[0m\u001b[1;33m(\u001b[0m\u001b[0malien\u001b[0m\u001b[1;33m[\u001b[0m\u001b[1;34m'6'\u001b[0m\u001b[1;33m]\u001b[0m\u001b[1;33m)\u001b[0m\u001b[1;33m\u001b[0m\u001b[1;33m\u001b[0m\u001b[0m\n\u001b[0m",
      "\u001b[1;31mKeyError\u001b[0m: '6'"
     ]
    }
   ],
   "source": [
    "print(alien['6'])"
   ]
  },
  {
   "cell_type": "code",
   "execution_count": null,
   "id": "6d962ac0",
   "metadata": {},
   "outputs": [],
   "source": [
    "# we can access the value by giving key, it doesnot work otherway around, like giving value and getting key from the value"
   ]
  },
  {
   "cell_type": "code",
   "execution_count": null,
   "id": "562075e3",
   "metadata": {},
   "outputs": [],
   "source": [
    "# req : how to add new key-value pairs to an existing dictionary\n",
    "# current_status : 'beginner'"
   ]
  },
  {
   "cell_type": "code",
   "execution_count": 9,
   "id": "df13379c",
   "metadata": {},
   "outputs": [
    {
     "name": "stdout",
     "output_type": "stream",
     "text": [
      "{'color': 'red', 'points': 6, 'level': 1}\n"
     ]
    }
   ],
   "source": [
    "print(alien)"
   ]
  },
  {
   "cell_type": "code",
   "execution_count": 10,
   "id": "17b30a8b",
   "metadata": {},
   "outputs": [],
   "source": [
    "alien['current_status'] = 'beginner'"
   ]
  },
  {
   "cell_type": "code",
   "execution_count": 11,
   "id": "5d04408e",
   "metadata": {},
   "outputs": [
    {
     "name": "stdout",
     "output_type": "stream",
     "text": [
      "{'color': 'red', 'points': 6, 'level': 1, 'current_status': 'beginner'}\n"
     ]
    }
   ],
   "source": [
    "print(alien)"
   ]
  },
  {
   "cell_type": "code",
   "execution_count": 12,
   "id": "02e2d606",
   "metadata": {},
   "outputs": [],
   "source": [
    "#how to modify the value for a key in a dictionary\n",
    "\n",
    "#change color to 'yellow'"
   ]
  },
  {
   "cell_type": "code",
   "execution_count": 13,
   "id": "0813bc22",
   "metadata": {},
   "outputs": [],
   "source": [
    "alien['color'] = 'yellow'"
   ]
  },
  {
   "cell_type": "code",
   "execution_count": 14,
   "id": "fbfbda34",
   "metadata": {},
   "outputs": [
    {
     "name": "stdout",
     "output_type": "stream",
     "text": [
      "{'color': 'yellow', 'points': 6, 'level': 1, 'current_status': 'beginner'}\n"
     ]
    }
   ],
   "source": [
    "print(alien)"
   ]
  },
  {
   "cell_type": "code",
   "execution_count": null,
   "id": "dcdcc676",
   "metadata": {},
   "outputs": [],
   "source": [
    "# how to delete the key-value pair from the dictionary\n",
    "\n",
    "# I want to delete 'points' key and respective value associated with it"
   ]
  },
  {
   "cell_type": "code",
   "execution_count": 15,
   "id": "8f4026ee",
   "metadata": {},
   "outputs": [],
   "source": [
    "del alien['points']"
   ]
  },
  {
   "cell_type": "code",
   "execution_count": 16,
   "id": "b4285eb8",
   "metadata": {},
   "outputs": [
    {
     "name": "stdout",
     "output_type": "stream",
     "text": [
      "{'color': 'yellow', 'level': 1, 'current_status': 'beginner'}\n"
     ]
    }
   ],
   "source": [
    "print(alien)"
   ]
  },
  {
   "cell_type": "code",
   "execution_count": null,
   "id": "d2a726df",
   "metadata": {},
   "outputs": [],
   "source": []
  },
  {
   "cell_type": "code",
   "execution_count": null,
   "id": "c0a08ada",
   "metadata": {},
   "outputs": [],
   "source": [
    "# create a facebook account...?"
   ]
  },
  {
   "cell_type": "code",
   "execution_count": 17,
   "id": "82eb9645",
   "metadata": {},
   "outputs": [],
   "source": [
    "new_account = {'first_name' : 'chandra', 'last_name' : 'mohan', 'user_name':'chanducm','dob':'11-5-2001', 'password': '362514'}"
   ]
  },
  {
   "cell_type": "code",
   "execution_count": 19,
   "id": "7810016f",
   "metadata": {},
   "outputs": [
    {
     "name": "stdout",
     "output_type": "stream",
     "text": [
      "{'first_name': 'chandra', 'last_name': 'mohan', 'user_name': 'chanducm', 'dob': '11-5-2001', 'password': '362514'}\n"
     ]
    }
   ],
   "source": [
    "print(new_account)"
   ]
  },
  {
   "cell_type": "code",
   "execution_count": null,
   "id": "ccd98399",
   "metadata": {},
   "outputs": [],
   "source": [
    "#add location key to the 'new_account' dictionary"
   ]
  },
  {
   "cell_type": "code",
   "execution_count": 20,
   "id": "9334761a",
   "metadata": {},
   "outputs": [],
   "source": [
    "new_account['location'] = 'Washington'"
   ]
  },
  {
   "cell_type": "code",
   "execution_count": 21,
   "id": "88e4088c",
   "metadata": {},
   "outputs": [
    {
     "name": "stdout",
     "output_type": "stream",
     "text": [
      "{'first_name': 'chandra', 'last_name': 'mohan', 'user_name': 'chanducm', 'dob': '11-5-2001', 'password': '362514', 'location': 'Washington'}\n"
     ]
    }
   ],
   "source": [
    "print(new_account)"
   ]
  },
  {
   "cell_type": "code",
   "execution_count": null,
   "id": "b291be63",
   "metadata": {},
   "outputs": [],
   "source": []
  }
 ],
 "metadata": {
  "kernelspec": {
   "display_name": "Python 3 (ipykernel)",
   "language": "python",
   "name": "python3"
  },
  "language_info": {
   "codemirror_mode": {
    "name": "ipython",
    "version": 3
   },
   "file_extension": ".py",
   "mimetype": "text/x-python",
   "name": "python",
   "nbconvert_exporter": "python",
   "pygments_lexer": "ipython3",
   "version": "3.9.7"
  }
 },
 "nbformat": 4,
 "nbformat_minor": 5
}
